{
  "nbformat": 4,
  "nbformat_minor": 0,
  "metadata": {
    "colab": {
      "name": "Perceptron_基礎介紹.ipynb",
      "provenance": [],
      "authorship_tag": "ABX9TyPQBYsODq7EBsWiQ/CRph0D",
      "include_colab_link": true
    },
    "kernelspec": {
      "name": "python3",
      "display_name": "Python 3"
    },
    "widgets": {
      "application/vnd.jupyter.widget-state+json": {
        "53b4d180c523460aa405b384d0453092": {
          "model_module": "@jupyter-widgets/controls",
          "model_name": "HBoxModel",
          "state": {
            "_view_name": "HBoxView",
            "_dom_classes": [],
            "_model_name": "HBoxModel",
            "_view_module": "@jupyter-widgets/controls",
            "_model_module_version": "1.5.0",
            "_view_count": null,
            "_view_module_version": "1.5.0",
            "box_style": "",
            "layout": "IPY_MODEL_3b6bc1c7a93d4f96b8d54ccd11e3d774",
            "_model_module": "@jupyter-widgets/controls",
            "children": [
              "IPY_MODEL_cf211991713d4b2eaaa393c1358ea6c7",
              "IPY_MODEL_1aae4c1b9a634a0faec3b51787f97964"
            ]
          }
        },
        "3b6bc1c7a93d4f96b8d54ccd11e3d774": {
          "model_module": "@jupyter-widgets/base",
          "model_name": "LayoutModel",
          "state": {
            "_view_name": "LayoutView",
            "grid_template_rows": null,
            "right": null,
            "justify_content": null,
            "_view_module": "@jupyter-widgets/base",
            "overflow": null,
            "_model_module_version": "1.2.0",
            "_view_count": null,
            "flex_flow": null,
            "width": null,
            "min_width": null,
            "border": null,
            "align_items": null,
            "bottom": null,
            "_model_module": "@jupyter-widgets/base",
            "top": null,
            "grid_column": null,
            "overflow_y": null,
            "overflow_x": null,
            "grid_auto_flow": null,
            "grid_area": null,
            "grid_template_columns": null,
            "flex": null,
            "_model_name": "LayoutModel",
            "justify_items": null,
            "grid_row": null,
            "max_height": null,
            "align_content": null,
            "visibility": null,
            "align_self": null,
            "height": null,
            "min_height": null,
            "padding": null,
            "grid_auto_rows": null,
            "grid_gap": null,
            "max_width": null,
            "order": null,
            "_view_module_version": "1.2.0",
            "grid_template_areas": null,
            "object_position": null,
            "object_fit": null,
            "grid_auto_columns": null,
            "margin": null,
            "display": null,
            "left": null
          }
        },
        "cf211991713d4b2eaaa393c1358ea6c7": {
          "model_module": "@jupyter-widgets/controls",
          "model_name": "FloatProgressModel",
          "state": {
            "_view_name": "ProgressView",
            "style": "IPY_MODEL_6778cd0c9fd04635aa2244d5e2c99048",
            "_dom_classes": [],
            "description": "100%",
            "_model_name": "FloatProgressModel",
            "bar_style": "success",
            "max": 1000,
            "_view_module": "@jupyter-widgets/controls",
            "_model_module_version": "1.5.0",
            "value": 1000,
            "_view_count": null,
            "_view_module_version": "1.5.0",
            "orientation": "horizontal",
            "min": 0,
            "description_tooltip": null,
            "_model_module": "@jupyter-widgets/controls",
            "layout": "IPY_MODEL_407626b7a2af4cbab0dd6d2902b21f14"
          }
        },
        "1aae4c1b9a634a0faec3b51787f97964": {
          "model_module": "@jupyter-widgets/controls",
          "model_name": "HTMLModel",
          "state": {
            "_view_name": "HTMLView",
            "style": "IPY_MODEL_f84441b0c6f94ab2aa881226eb84cb99",
            "_dom_classes": [],
            "description": "",
            "_model_name": "HTMLModel",
            "placeholder": "​",
            "_view_module": "@jupyter-widgets/controls",
            "_model_module_version": "1.5.0",
            "value": " 1000/1000 [00:12&lt;00:00, 77.46it/s]",
            "_view_count": null,
            "_view_module_version": "1.5.0",
            "description_tooltip": null,
            "_model_module": "@jupyter-widgets/controls",
            "layout": "IPY_MODEL_5e58bed6071d4723864bb16a51b7b151"
          }
        },
        "6778cd0c9fd04635aa2244d5e2c99048": {
          "model_module": "@jupyter-widgets/controls",
          "model_name": "ProgressStyleModel",
          "state": {
            "_view_name": "StyleView",
            "_model_name": "ProgressStyleModel",
            "description_width": "initial",
            "_view_module": "@jupyter-widgets/base",
            "_model_module_version": "1.5.0",
            "_view_count": null,
            "_view_module_version": "1.2.0",
            "bar_color": null,
            "_model_module": "@jupyter-widgets/controls"
          }
        },
        "407626b7a2af4cbab0dd6d2902b21f14": {
          "model_module": "@jupyter-widgets/base",
          "model_name": "LayoutModel",
          "state": {
            "_view_name": "LayoutView",
            "grid_template_rows": null,
            "right": null,
            "justify_content": null,
            "_view_module": "@jupyter-widgets/base",
            "overflow": null,
            "_model_module_version": "1.2.0",
            "_view_count": null,
            "flex_flow": null,
            "width": null,
            "min_width": null,
            "border": null,
            "align_items": null,
            "bottom": null,
            "_model_module": "@jupyter-widgets/base",
            "top": null,
            "grid_column": null,
            "overflow_y": null,
            "overflow_x": null,
            "grid_auto_flow": null,
            "grid_area": null,
            "grid_template_columns": null,
            "flex": null,
            "_model_name": "LayoutModel",
            "justify_items": null,
            "grid_row": null,
            "max_height": null,
            "align_content": null,
            "visibility": null,
            "align_self": null,
            "height": null,
            "min_height": null,
            "padding": null,
            "grid_auto_rows": null,
            "grid_gap": null,
            "max_width": null,
            "order": null,
            "_view_module_version": "1.2.0",
            "grid_template_areas": null,
            "object_position": null,
            "object_fit": null,
            "grid_auto_columns": null,
            "margin": null,
            "display": null,
            "left": null
          }
        },
        "f84441b0c6f94ab2aa881226eb84cb99": {
          "model_module": "@jupyter-widgets/controls",
          "model_name": "DescriptionStyleModel",
          "state": {
            "_view_name": "StyleView",
            "_model_name": "DescriptionStyleModel",
            "description_width": "",
            "_view_module": "@jupyter-widgets/base",
            "_model_module_version": "1.5.0",
            "_view_count": null,
            "_view_module_version": "1.2.0",
            "_model_module": "@jupyter-widgets/controls"
          }
        },
        "5e58bed6071d4723864bb16a51b7b151": {
          "model_module": "@jupyter-widgets/base",
          "model_name": "LayoutModel",
          "state": {
            "_view_name": "LayoutView",
            "grid_template_rows": null,
            "right": null,
            "justify_content": null,
            "_view_module": "@jupyter-widgets/base",
            "overflow": null,
            "_model_module_version": "1.2.0",
            "_view_count": null,
            "flex_flow": null,
            "width": null,
            "min_width": null,
            "border": null,
            "align_items": null,
            "bottom": null,
            "_model_module": "@jupyter-widgets/base",
            "top": null,
            "grid_column": null,
            "overflow_y": null,
            "overflow_x": null,
            "grid_auto_flow": null,
            "grid_area": null,
            "grid_template_columns": null,
            "flex": null,
            "_model_name": "LayoutModel",
            "justify_items": null,
            "grid_row": null,
            "max_height": null,
            "align_content": null,
            "visibility": null,
            "align_self": null,
            "height": null,
            "min_height": null,
            "padding": null,
            "grid_auto_rows": null,
            "grid_gap": null,
            "max_width": null,
            "order": null,
            "_view_module_version": "1.2.0",
            "grid_template_areas": null,
            "object_position": null,
            "object_fit": null,
            "grid_auto_columns": null,
            "margin": null,
            "display": null,
            "left": null
          }
        }
      }
    }
  },
  "cells": [
    {
      "cell_type": "markdown",
      "metadata": {
        "id": "view-in-github",
        "colab_type": "text"
      },
      "source": [
        "<a href=\"https://colab.research.google.com/github/skywalker0803r/teaching_material/blob/main/Perceptron.ipynb\" target=\"_parent\"><img src=\"https://colab.research.google.com/assets/colab-badge.svg\" alt=\"Open In Colab\"/></a>"
      ]
    },
    {
      "cell_type": "markdown",
      "metadata": {
        "id": "g_0wwrBom4ll"
      },
      "source": [
        "# Perceptron 基礎介紹"
      ]
    },
    {
      "cell_type": "markdown",
      "metadata": {
        "id": "dzL2G5StniwB"
      },
      "source": [
        "感知器（英語：Perceptron）是Frank Rosenblatt在1957年就職於康奈爾航空實驗室（Cornell Aeronautical Laboratory）時所發明的一種人工神經網路。它可以被視為一種最簡單形式的前饋神經網路，是一種二元線性分類器。\n",
        "\n",
        "Frank Rosenblatt給出了相應的感知機學習算法，常用的有感知機學習、最小二乘法和梯度下降法。譬如，感知機利用梯度下降法對損失函數進行極小化，求出可將訓練數據進行線性劃分的分離超平面，從而求得感知機模型。"
      ]
    },
    {
      "cell_type": "markdown",
      "metadata": {
        "id": "ibcJNoOpt-w1"
      },
      "source": [
        "![img](data:image/jpeg;base64,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)"
      ]
    },
    {
      "cell_type": "markdown",
      "metadata": {
        "id": "M6B8Pk4IuLYa"
      },
      "source": [
        "神經細胞結構示意圖\n",
        "感知機是生物神經細胞的簡單抽象。神經細胞結構大致可分為：樹突、突觸、細胞體及軸突。單個神經細胞可被視為一種只有兩種狀態的機器——激動時為『是』，而未激動時為『否』。神經細胞的狀態取決於從其它的神經細胞收到的輸入信號量，及突觸的強度（抑制或加強）。當信號量總和超過了某個閾值時，細胞體就會激動，產生電脈衝。電脈衝沿著軸突並通過突觸傳遞到其它神經元。為了模擬神經細胞行為，與之對應的感知機基礎概念被提出，如權量（突觸）、偏置（閾值）及激活函數（細胞體）。\n",
        "\n",
        "在人工神經網絡領域中，感知機也被指為單層的人工神經網絡，以區別於較複雜的多層感知機（Multilayer Perceptron）。作為一種線性分類器，（單層）感知機可說是最簡單的前向人工神經網絡形式。儘管結構簡單，感知機能夠學習並解決相當複雜的問題。感知機主要的本質缺陷是它不能處理線性不可分問題。"
      ]
    },
    {
      "cell_type": "markdown",
      "metadata": {
        "id": "VM3bH9nsnBy5"
      },
      "source": [
        "![img](https://miro.medium.com/max/424/1*J0zzv7JjJOUh6ycSOVfl3Q.png)"
      ]
    },
    {
      "cell_type": "markdown",
      "metadata": {
        "id": "j4HQyda4uXnY"
      },
      "source": [
        "Perceptron 在程式中實際運作流程圖如下"
      ]
    },
    {
      "cell_type": "markdown",
      "metadata": {
        "id": "yTs1xWY4nxNz"
      },
      "source": [
        "![img](https://pythonmachinelearning.pro/wp-content/uploads/2017/09/Single-Perceptron.png.webp)"
      ]
    },
    {
      "cell_type": "markdown",
      "metadata": {
        "id": "yhxhV2Tgum1L"
      },
      "source": [
        "# 課程大綱"
      ]
    },
    {
      "cell_type": "markdown",
      "metadata": {
        "id": "ogBJTlunurKj"
      },
      "source": [
        "* 1 導入函式庫\n",
        "* 2 製作數據\n",
        "* 3 定義感知器模型架構\n",
        "* 4 訓練感知器模型(用梯度下降法)\n",
        "* 5.評估感知器模型\n",
        "* 6.多層感知器(multiple layer perceptron)"
      ]
    },
    {
      "cell_type": "markdown",
      "metadata": {
        "id": "fzglODb0q8vv"
      },
      "source": [
        "# 1.導入套件"
      ]
    },
    {
      "cell_type": "code",
      "metadata": {
        "id": "Fkap6FYAq6t5"
      },
      "source": [
        "# jax 可以想成有微分功能的numpy\n",
        "import jax\n",
        "import jax.numpy as jnp\n",
        "from jax import random\n",
        "import numpy as np\n",
        "\n",
        "# 進度條\n",
        "from tqdm import tqdm_notebook as tqdm\n",
        "\n",
        "# 機器學習套件庫sklearn\n",
        "from sklearn.metrics import accuracy_score\n",
        "from sklearn.datasets import make_blobs\n",
        "\n",
        "# 繪圖用\n",
        "import matplotlib.pyplot as plt\n",
        "\n",
        "# 整理&操作表格數據用\n",
        "import pandas as pd\n",
        "\n",
        "# 畫出散點圖用\n",
        "def plot_data(class_zero,class_one):\n",
        "  plt.scatter(class_zero.x1,class_zero.x2,label='class_zero',color='red')\n",
        "  plt.scatter(class_one.x1,class_one.x2,label='class_one',color='blue')\n",
        "  plt.xlabel('x1')\n",
        "  plt.ylabel('x2')\n",
        "  plt.legend()\n",
        "\n",
        "# 畫出決策表面用\n",
        "def plot_decision_surface(X,predict_fn):\n",
        "  min1, max1 = X[:, 0].min()-1, X[:, 0].max()+1\n",
        "  min2, max2 = X[:, 1].min()-1, X[:, 1].max()+1\n",
        "  x1grid = np.arange(min1, max1, 0.05)\n",
        "  x2grid = np.arange(min2, max2, 0.05)\n",
        "  xx, yy = np.meshgrid(x1grid, x2grid)\n",
        "  r1, r2 = xx.flatten(), yy.flatten()\n",
        "  r1, r2 = r1.reshape((len(r1), 1)), r2.reshape((len(r2), 1))\n",
        "  grid = np.hstack((r1,r2))\n",
        "  yhat = predict_fn(grid)\n",
        "  zz = yhat.reshape(xx.shape)\n",
        "  plt.contourf(xx,yy,zz,cmap='Paired')\n",
        "  plt.contour(xx,yy,zz,color='black',lw=0.5)"
      ],
      "execution_count": 1,
      "outputs": []
    },
    {
      "cell_type": "markdown",
      "metadata": {
        "id": "rSGV8J_osWYc"
      },
      "source": [
        "# 2.製作數據"
      ]
    },
    {
      "cell_type": "markdown",
      "metadata": {
        "id": "K1mtxu-MvcH1"
      },
      "source": [
        "這裡以一個簡單的二分類數據當範例 特徵有 x1,x2 輸出為y(0或1)"
      ]
    },
    {
      "cell_type": "code",
      "metadata": {
        "colab": {
          "base_uri": "https://localhost:8080/",
          "height": 198
        },
        "id": "2swcTFBQrHgo",
        "outputId": "ce6cd002-d78b-40db-eb42-f5f752483da5"
      },
      "source": [
        "X, y = make_blobs(n_samples=100,centers=2, n_features=2,random_state=0)\n",
        "df = pd.DataFrame()\n",
        "df['x1'] = X[:,0]\n",
        "df['x2'] = X[:,1]\n",
        "df['y'] = y\n",
        "df.head()"
      ],
      "execution_count": 2,
      "outputs": [
        {
          "output_type": "execute_result",
          "data": {
            "text/html": [
              "<div>\n",
              "<style scoped>\n",
              "    .dataframe tbody tr th:only-of-type {\n",
              "        vertical-align: middle;\n",
              "    }\n",
              "\n",
              "    .dataframe tbody tr th {\n",
              "        vertical-align: top;\n",
              "    }\n",
              "\n",
              "    .dataframe thead th {\n",
              "        text-align: right;\n",
              "    }\n",
              "</style>\n",
              "<table border=\"1\" class=\"dataframe\">\n",
              "  <thead>\n",
              "    <tr style=\"text-align: right;\">\n",
              "      <th></th>\n",
              "      <th>x1</th>\n",
              "      <th>x2</th>\n",
              "      <th>y</th>\n",
              "    </tr>\n",
              "  </thead>\n",
              "  <tbody>\n",
              "    <tr>\n",
              "      <th>0</th>\n",
              "      <td>4.218503</td>\n",
              "      <td>2.234192</td>\n",
              "      <td>1</td>\n",
              "    </tr>\n",
              "    <tr>\n",
              "      <th>1</th>\n",
              "      <td>0.907799</td>\n",
              "      <td>0.459844</td>\n",
              "      <td>1</td>\n",
              "    </tr>\n",
              "    <tr>\n",
              "      <th>2</th>\n",
              "      <td>-0.276525</td>\n",
              "      <td>5.081278</td>\n",
              "      <td>0</td>\n",
              "    </tr>\n",
              "    <tr>\n",
              "      <th>3</th>\n",
              "      <td>0.088484</td>\n",
              "      <td>2.322991</td>\n",
              "      <td>0</td>\n",
              "    </tr>\n",
              "    <tr>\n",
              "      <th>4</th>\n",
              "      <td>3.243297</td>\n",
              "      <td>1.214606</td>\n",
              "      <td>1</td>\n",
              "    </tr>\n",
              "  </tbody>\n",
              "</table>\n",
              "</div>"
            ],
            "text/plain": [
              "         x1        x2  y\n",
              "0  4.218503  2.234192  1\n",
              "1  0.907799  0.459844  1\n",
              "2 -0.276525  5.081278  0\n",
              "3  0.088484  2.322991  0\n",
              "4  3.243297  1.214606  1"
            ]
          },
          "metadata": {
            "tags": []
          },
          "execution_count": 2
        }
      ]
    },
    {
      "cell_type": "markdown",
      "metadata": {
        "id": "-lVPEF0Zsaq2"
      },
      "source": [
        "針對上面的表格數據,可以用視覺化套件繪製出來幫助我們更好的理解數據"
      ]
    },
    {
      "cell_type": "code",
      "metadata": {
        "colab": {
          "base_uri": "https://localhost:8080/",
          "height": 279
        },
        "id": "94FzaphysfUU",
        "outputId": "69858760-b6a9-4452-b41c-0c9821e33a9e"
      },
      "source": [
        "plot_data(df[df.y == 0],df[df.y == 1])"
      ],
      "execution_count": 3,
      "outputs": [
        {
          "output_type": "display_data",
          "data": {
            "image/png": "[encoded data removed]",
            "text/plain": [
              "<Figure size 432x288 with 1 Axes>"
            ]
          },
          "metadata": {
            "tags": [],
            "needs_background": "light"
          }
        }
      ]
    },
    {
      "cell_type": "markdown",
      "metadata": {
        "id": "IfozF8zfwp3A"
      },
      "source": [
        "# 3.定義感知器模型參數"
      ]
    },
    {
      "cell_type": "markdown",
      "metadata": {
        "id": "fR2V5ys-2tux"
      },
      "source": [
        "在開始正式訓練之前我們先把模型建立起來 並隨機設定其中的weight(權重) 和bias(偏置) 看看這樣隨機的參數表現如何"
      ]
    },
    {
      "cell_type": "code",
      "metadata": {
        "id": "xgM6b4daxrMV",
        "colab": {
          "base_uri": "https://localhost:8080/"
        },
        "outputId": "e5544bdc-16c7-4ac8-ff64-69a48a80e637"
      },
      "source": [
        "# model weights 隨機設定初始值\n",
        "key = random.PRNGKey(0)\n",
        "params = {\n",
        "    'w': random.uniform(key,minval=0.0,maxval=1.0,shape=(2,)),\n",
        "    'b': 0.\n",
        "}\n",
        "\n",
        "# model forward method\n",
        "def forward(params,X):\n",
        "    return jax.nn.sigmoid(jnp.dot(X,params['w'] + params['b']))"
      ],
      "execution_count": 4,
      "outputs": [
        {
          "output_type": "stream",
          "text": [
            "WARNING:absl:No GPU/TPU found, falling back to CPU. (Set TF_CPP_MIN_LOG_LEVEL=0 and rerun for more info.)\n"
          ],
          "name": "stderr"
        }
      ]
    },
    {
      "cell_type": "markdown",
      "metadata": {
        "id": "74wEjv3T3_sw"
      },
      "source": [
        "forward 輸出值經過 sigmoid函數 會被限制在0~1之間"
      ]
    },
    {
      "cell_type": "markdown",
      "metadata": {
        "id": "q-vcnRbU4UxH"
      },
      "source": [
        "![img](https://www.googleapis.com/download/storage/v1/b/kaggle-forum-message-attachments/o/inbox%2F5152157%2F366ce717ad74dfe967a940d9a2161f9b%2Fmain-qimg-6b67bea3311c3429bfb34b6b1737fe0c.jpg?generation=1605711218576073&alt=media)\n",
        "\n"
      ]
    },
    {
      "cell_type": "code",
      "metadata": {
        "colab": {
          "base_uri": "https://localhost:8080/"
        },
        "id": "_2bewc2R2SGd",
        "outputId": "2986d83a-16ec-49e6-c5ca-51f2b86748d9"
      },
      "source": [
        "y_pred = forward(params,df[['x1','x2']].values)\n",
        "y_pred"
      ],
      "execution_count": 5,
      "outputs": [
        {
          "output_type": "execute_result",
          "data": {
            "text/plain": [
              "DeviceArray([0.9375562 , 0.63786834, 0.9824702 , 0.86842585, 0.8426666 ,\n",
              "             0.9267178 , 0.9715659 , 0.9411892 , 0.96594316, 0.6078111 ,\n",
              "             0.97639513, 0.70972216, 0.98903835, 0.9711807 , 0.85241693,\n",
              "             0.9199244 , 0.63219965, 0.9622165 , 0.62494284, 0.8074417 ,\n",
              "             0.9821816 , 0.97466034, 0.90440774, 0.98439294, 0.7579761 ,\n",
              "             0.9816533 , 0.5843682 , 0.9940018 , 0.98264325, 0.9086668 ,\n",
              "             0.58994603, 0.9807263 , 0.7250103 , 0.5922018 , 0.9281954 ,\n",
              "             0.97773504, 0.74002886, 0.9261744 , 0.9490896 , 0.76801765,\n",
              "             0.90914786, 0.9944313 , 0.9923968 , 0.96114516, 0.92240983,\n",
              "             0.84723437, 0.5544307 , 0.4960448 , 0.9756714 , 0.98972523,\n",
              "             0.6482975 , 0.75053746, 0.9960037 , 0.9868383 , 0.9522746 ,\n",
              "             0.98240936, 0.95237005, 0.74685407, 0.8350504 , 0.50333977,\n",
              "             0.8281801 , 0.9771509 , 0.98645705, 0.83745897, 0.99240404,\n",
              "             0.93151766, 0.9533863 , 0.9640853 , 0.87337583, 0.96310633,\n",
              "             0.9549057 , 0.6167716 , 0.90878546, 0.9807982 , 0.8916702 ,\n",
              "             0.96242267, 0.8161927 , 0.8850115 , 0.961188  , 0.98219436,\n",
              "             0.92525786, 0.9673033 , 0.9848823 , 0.98081756, 0.9316352 ,\n",
              "             0.9778902 , 0.7767136 , 0.9926444 , 0.71009004, 0.7546547 ,\n",
              "             0.8803251 , 0.6959744 , 0.86612916, 0.42747715, 0.97875434,\n",
              "             0.97455186, 0.3184887 , 0.8087851 , 0.9589793 , 0.82924616],            dtype=float32)"
            ]
          },
          "metadata": {
            "tags": []
          },
          "execution_count": 5
        }
      ]
    },
    {
      "cell_type": "markdown",
      "metadata": {
        "id": "C-VTYGs-380I"
      },
      "source": [
        "我們實際有兩個類別0和1,所以可以把模型原始輸出再做轉換 大於0.5的變成1小於0.5的變成0"
      ]
    },
    {
      "cell_type": "code",
      "metadata": {
        "colab": {
          "base_uri": "https://localhost:8080/"
        },
        "id": "7yM5SIvCzxb4",
        "outputId": "fad673c6-f109-4130-fd63-8cff2d349a6e"
      },
      "source": [
        "y_pred = (y_pred>=0.5).astype(int)\n",
        "y_pred"
      ],
      "execution_count": 6,
      "outputs": [
        {
          "output_type": "execute_result",
          "data": {
            "text/plain": [
              "DeviceArray([1, 1, 1, 1, 1, 1, 1, 1, 1, 1, 1, 1, 1, 1, 1, 1, 1, 1, 1, 1,\n",
              "             1, 1, 1, 1, 1, 1, 1, 1, 1, 1, 1, 1, 1, 1, 1, 1, 1, 1, 1, 1,\n",
              "             1, 1, 1, 1, 1, 1, 1, 0, 1, 1, 1, 1, 1, 1, 1, 1, 1, 1, 1, 1,\n",
              "             1, 1, 1, 1, 1, 1, 1, 1, 1, 1, 1, 1, 1, 1, 1, 1, 1, 1, 1, 1,\n",
              "             1, 1, 1, 1, 1, 1, 1, 1, 1, 1, 1, 1, 1, 0, 1, 1, 0, 1, 1, 1],            dtype=int32)"
            ]
          },
          "metadata": {
            "tags": []
          },
          "execution_count": 6
        }
      ]
    },
    {
      "cell_type": "code",
      "metadata": {
        "id": "1MoVvzafC3LV"
      },
      "source": [
        "df['y_pred'] = list(y_pred)"
      ],
      "execution_count": 7,
      "outputs": []
    },
    {
      "cell_type": "markdown",
      "metadata": {
        "id": "8XJhKNFr4JN1"
      },
      "source": [
        "看看正確率如何(訓練前)"
      ]
    },
    {
      "cell_type": "code",
      "metadata": {
        "colab": {
          "base_uri": "https://localhost:8080/"
        },
        "id": "yJA_-3Sj25td",
        "outputId": "95eb72eb-f45b-4682-ee83-115933e625df"
      },
      "source": [
        "accuracy_score(df['y'].values,df['y_pred'].values)"
      ],
      "execution_count": 8,
      "outputs": [
        {
          "output_type": "execute_result",
          "data": {
            "text/plain": [
              "0.47"
            ]
          },
          "metadata": {
            "tags": []
          },
          "execution_count": 8
        }
      ]
    },
    {
      "cell_type": "markdown",
      "metadata": {
        "id": "w8rMk1gS9nzc"
      },
      "source": [
        "可視化預測結果"
      ]
    },
    {
      "cell_type": "code",
      "metadata": {
        "id": "3kLf3FYMqQtH",
        "colab": {
          "base_uri": "https://localhost:8080/",
          "height": 297
        },
        "outputId": "8b05c94c-0063-4b96-bae9-07d607ad599f"
      },
      "source": [
        "plot_decision_surface(df[['x1','x2']].values,lambda x:(forward(params,x)>=0.5).astype(int))\n",
        "plot_data(df[df.y == 0],df[df.y == 1])\n",
        "plt.show()"
      ],
      "execution_count": 9,
      "outputs": [
        {
          "output_type": "stream",
          "text": [
            "/usr/local/lib/python3.6/dist-packages/ipykernel_launcher.py:41: UserWarning: The following kwargs were not used by contour: 'color', 'lw'\n"
          ],
          "name": "stderr"
        },
        {
          "output_type": "display_data",
          "data": {
            "image/png": "[encoded data removed]",
            "text/plain": [
              "<Figure size 432x288 with 1 Axes>"
            ]
          },
          "metadata": {
            "tags": [],
            "needs_background": "light"
          }
        }
      ]
    },
    {
      "cell_type": "markdown",
      "metadata": {
        "id": "Uv1j3VbQ5P_y"
      },
      "source": [
        "# 4.訓練感知器模型(用梯度下降法)"
      ]
    },
    {
      "cell_type": "markdown",
      "metadata": {
        "id": "J3KbsuyB5_kA"
      },
      "source": [
        "梯度下降解決的問題是這樣的\n",
        "\n",
        "1.給定一個損失函數例如:J(w)\n",
        "\n",
        "2.找到一組w讓J(w)最小"
      ]
    },
    {
      "cell_type": "markdown",
      "metadata": {
        "id": "oj3w3GhJ54pI"
      },
      "source": [
        "![img](https://miro.medium.com/max/700/0*owEkv2m9XluM2Ta_.png)"
      ]
    },
    {
      "cell_type": "markdown",
      "metadata": {
        "id": "disTMFld6YEO"
      },
      "source": [
        "梯度下降求解的思路是這樣的:\n",
        "\n",
        "1.對每一個w去計算∂J(w)/ ∂w(所謂的梯度)\n",
        "\n",
        "2.根據梯度的方向和大小去更新w\n",
        "\n",
        "3.通常會在梯度前面乘上一個learning_rate(控制更新步長)"
      ]
    },
    {
      "cell_type": "markdown",
      "metadata": {
        "id": "tzk-y2Wd5XNw"
      },
      "source": [
        "![img](https://miro.medium.com/max/700/0*qKCRY2P2eAbClDcm.gif)"
      ]
    },
    {
      "cell_type": "markdown",
      "metadata": {
        "id": "lfQLvznt7MuA"
      },
      "source": [
        "定義一個損失函數(loss_function)簡稱J(吃模型的參數(params)(weight和bias)吐出loss)"
      ]
    },
    {
      "cell_type": "code",
      "metadata": {
        "colab": {
          "base_uri": "https://localhost:8080/"
        },
        "id": "Q77NPQvR8v6O",
        "outputId": "530e1293-8ec8-4848-fb61-be4b8b9d2e2e"
      },
      "source": [
        "def J(params):\n",
        "  y_pred = forward(params,X) # 預測值\n",
        "  loss = jnp.mean(jnp.square(y_pred - y)) # 預測值跟真實值之間的mse loss\n",
        "  return loss\n",
        "loss = J(params)\n",
        "print('loss:',loss)"
      ],
      "execution_count": 10,
      "outputs": [
        {
          "output_type": "stream",
          "text": [
            "loss: 0.50943154\n"
          ],
          "name": "stdout"
        }
      ]
    },
    {
      "cell_type": "markdown",
      "metadata": {
        "id": "mwYPAjU3_gbJ"
      },
      "source": [
        "對損失函數求偏微分(梯度),這裡使用jax套件提供的功能非常方便,可以輕鬆取得 損失函數 的 導函數"
      ]
    },
    {
      "cell_type": "markdown",
      "metadata": {
        "id": "wOe-OkkaITPb"
      },
      "source": [
        "導函數複習： 若有函數 f(x) = x**2 則其導函數 f'(x) = 2x"
      ]
    },
    {
      "cell_type": "code",
      "metadata": {
        "colab": {
          "base_uri": "https://localhost:8080/"
        },
        "id": "vn_csMr-_q5L",
        "outputId": "f315045f-d45f-421a-9330-10d1bee5d35b"
      },
      "source": [
        "grad_fn = jax.grad(J) #損失函數的導函數\n",
        "grad = grad_fn(params) #利用導函數求導數(梯度)\n",
        "print('grad:',grad)"
      ],
      "execution_count": 11,
      "outputs": [
        {
          "output_type": "stream",
          "text": [
            "grad: {'b': DeviceArray(0.03107279, dtype=float32), 'w': DeviceArray([-0.06177379,  0.09284658], dtype=float32)}\n"
          ],
          "name": "stdout"
        }
      ]
    },
    {
      "cell_type": "markdown",
      "metadata": {
        "id": "GUvNFgLnAnuE"
      },
      "source": [
        "用 梯度下降公式 更新模型參數"
      ]
    },
    {
      "cell_type": "markdown",
      "metadata": {
        "id": "oMHrvnBFA9jT"
      },
      "source": [
        "![img](https://miro.medium.com/max/279/0*MyJf92jsXJMpumzx.png)"
      ]
    },
    {
      "cell_type": "code",
      "metadata": {
        "colab": {
          "base_uri": "https://localhost:8080/"
        },
        "id": "I1QxntWxAnSv",
        "outputId": "18eba4a5-bf8a-40b9-97e3-7c445b544378"
      },
      "source": [
        "def update(params, grads,lr = 0.01): # lr代表學習率\n",
        "  new_params = jax.tree_multimap(lambda p, g: p - lr * g, params, grads)\n",
        "  return new_params\n",
        "\n",
        "print('舊參數',params)\n",
        "new_params = update(params,grad_fn(params))\n",
        "print('新參數:',new_params)"
      ],
      "execution_count": 12,
      "outputs": [
        {
          "output_type": "stream",
          "text": [
            "舊參數 {'w': DeviceArray([0.21629536, 0.8041241 ], dtype=float32), 'b': 0.0}\n",
            "新參數: {'b': DeviceArray(-0.00031073, dtype=float32), 'w': DeviceArray([0.2169131 , 0.80319566], dtype=float32)}\n"
          ],
          "name": "stdout"
        }
      ]
    },
    {
      "cell_type": "markdown",
      "metadata": {
        "id": "RDR10Y3rFAxi"
      },
      "source": [
        "所謂的機器學習(訓練)其實就是反覆執行多次參數更新"
      ]
    },
    {
      "cell_type": "code",
      "metadata": {
        "colab": {
          "base_uri": "https://localhost:8080/",
          "height": 485,
          "referenced_widgets": [
            "53b4d180c523460aa405b384d0453092",
            "3b6bc1c7a93d4f96b8d54ccd11e3d774",
            "cf211991713d4b2eaaa393c1358ea6c7",
            "1aae4c1b9a634a0faec3b51787f97964",
            "6778cd0c9fd04635aa2244d5e2c99048",
            "407626b7a2af4cbab0dd6d2902b21f14",
            "f84441b0c6f94ab2aa881226eb84cb99",
            "5e58bed6071d4723864bb16a51b7b151"
          ]
        },
        "id": "biVkyjPRm64Z",
        "outputId": "5ccec552-a8b3-4390-ae1e-a91f3fc2d77a"
      },
      "source": [
        "loss_history = [] # 紀錄每一步的loss\n",
        "for i in tqdm(range(1000)):\n",
        "  loss = J(params)\n",
        "  loss_history.append(loss)\n",
        "  grads = grad_fn(params)\n",
        "  params = update(params, grads)\n",
        "  if i%50 == 0:\n",
        "    print(i,loss)"
      ],
      "execution_count": 13,
      "outputs": [
        {
          "output_type": "stream",
          "text": [
            "/usr/local/lib/python3.6/dist-packages/ipykernel_launcher.py:2: TqdmDeprecationWarning: This function will be removed in tqdm==5.0.0\n",
            "Please use `tqdm.notebook.tqdm` instead of `tqdm.tqdm_notebook`\n",
            "  \n"
          ],
          "name": "stderr"
        },
        {
          "output_type": "display_data",
          "data": {
            "application/vnd.jupyter.widget-view+json": {
              "model_id": "53b4d180c523460aa405b384d0453092",
              "version_minor": 0,
              "version_major": 2
            },
            "text/plain": [
              "HBox(children=(FloatProgress(value=0.0, max=1000.0), HTML(value='')))"
            ]
          },
          "metadata": {
            "tags": []
          }
        },
        {
          "output_type": "stream",
          "text": [
            "0 0.50943154\n",
            "50 0.5010134\n",
            "100 0.48411986\n",
            "150 0.42192855\n",
            "200 0.23567177\n",
            "250 0.1917816\n",
            "300 0.16700983\n",
            "350 0.1496349\n",
            "400 0.13722864\n",
            "450 0.1281215\n",
            "500 0.1212389\n",
            "550 0.11589715\n",
            "600 0.11165346\n",
            "650 0.108213596\n",
            "700 0.105376676\n",
            "750 0.10300183\n",
            "800 0.10098791\n",
            "850 0.09926067\n",
            "900 0.09776458\n",
            "950 0.09645727\n",
            "\n"
          ],
          "name": "stdout"
        }
      ]
    },
    {
      "cell_type": "markdown",
      "metadata": {
        "id": "KAsnFHUnHlas"
      },
      "source": [
        "觀察 loss下降曲線"
      ]
    },
    {
      "cell_type": "code",
      "metadata": {
        "colab": {
          "base_uri": "https://localhost:8080/",
          "height": 283
        },
        "id": "HnyN10HsHlj5",
        "outputId": "753e9cee-439e-4243-e94f-8c6782c09555"
      },
      "source": [
        "plt.plot(loss_history)"
      ],
      "execution_count": 14,
      "outputs": [
        {
          "output_type": "execute_result",
          "data": {
            "text/plain": [
              "[<matplotlib.lines.Line2D at 0x7fd05d73a320>]"
            ]
          },
          "metadata": {
            "tags": []
          },
          "execution_count": 14
        },
        {
          "output_type": "display_data",
          "data": {
            "image/png": "[encoded data removed]",
            "text/plain": [
              "<Figure size 432x288 with 1 Axes>"
            ]
          },
          "metadata": {
            "tags": [],
            "needs_background": "light"
          }
        }
      ]
    },
    {
      "cell_type": "markdown",
      "metadata": {
        "id": "0AB0RTVOGpih"
      },
      "source": [
        "# 5.評估感知器模型(訓練後)"
      ]
    },
    {
      "cell_type": "code",
      "metadata": {
        "colab": {
          "base_uri": "https://localhost:8080/"
        },
        "id": "OFR1Xhqeqpub",
        "outputId": "4881f27d-edf0-4fb1-d229-6ac42534692a"
      },
      "source": [
        "y_pred = forward(params,df[['x1','x2']].values)\n",
        "y_pred = (y_pred>=0.5).astype(int)\n",
        "df['y_pred'] = list(y_pred)\n",
        "accuracy_score(df['y'].values,df['y_pred'].values)"
      ],
      "execution_count": 15,
      "outputs": [
        {
          "output_type": "execute_result",
          "data": {
            "text/plain": [
              "0.87"
            ]
          },
          "metadata": {
            "tags": []
          },
          "execution_count": 15
        }
      ]
    },
    {
      "cell_type": "markdown",
      "metadata": {
        "id": "iLsa_vcKG_ey"
      },
      "source": [
        "可視化預測結果"
      ]
    },
    {
      "cell_type": "code",
      "metadata": {
        "colab": {
          "base_uri": "https://localhost:8080/",
          "height": 297
        },
        "id": "rQ1ZfoY5G4WT",
        "outputId": "c5694cf5-9051-4c84-fba5-6aac4cd9d16b"
      },
      "source": [
        "plot_decision_surface(df[['x1','x2']].values,lambda x:(forward(params,x)>=0.5).astype(int))\n",
        "plot_data(df[df.y == 0],df[df.y == 1])\n",
        "plt.show()"
      ],
      "execution_count": 16,
      "outputs": [
        {
          "output_type": "stream",
          "text": [
            "/usr/local/lib/python3.6/dist-packages/ipykernel_launcher.py:41: UserWarning: The following kwargs were not used by contour: 'color', 'lw'\n"
          ],
          "name": "stderr"
        },
        {
          "output_type": "display_data",
          "data": {
            "image/png": "[encoded data removed]",
            "text/plain": [
              "<Figure size 432x288 with 1 Axes>"
            ]
          },
          "metadata": {
            "tags": [],
            "needs_background": "light"
          }
        }
      ]
    },
    {
      "cell_type": "markdown",
      "metadata": {
        "id": "_op_pughFICl"
      },
      "source": [
        "# 6.多層感知器(multiple layer perceptron)"
      ]
    },
    {
      "cell_type": "markdown",
      "metadata": {
        "id": "RffJgVQTFKu1"
      },
      "source": [
        "![img](http://jihshichen.weebly.com/uploads/7/4/6/2/74629793/_2192882.png)"
      ]
    },
    {
      "cell_type": "markdown",
      "metadata": {
        "id": "m2ina0hzJT3q"
      },
      "source": [
        "導入深度學習套件 tensorflow & keras"
      ]
    },
    {
      "cell_type": "code",
      "metadata": {
        "id": "DnV0E_RrFJnG"
      },
      "source": [
        "import tensorflow as tf\n",
        "from tensorflow import keras\n",
        "from tensorflow.keras import layers\n",
        "from keras.metrics import Accuracy\n",
        "from keras.losses import mean_squared_error"
      ],
      "execution_count": 17,
      "outputs": []
    },
    {
      "cell_type": "markdown",
      "metadata": {
        "id": "_eLcHRnJR9Xf"
      },
      "source": [
        "setting seed value"
      ]
    },
    {
      "cell_type": "code",
      "metadata": {
        "id": "mC2TK1UrRzYA"
      },
      "source": [
        "seed_value= 0\n",
        "import os\n",
        "os.environ['PYTHONHASHSEED']=str(seed_value)\n",
        "import random\n",
        "random.seed(seed_value)\n",
        "import numpy as np\n",
        "np.random.seed(seed_value)\n",
        "import tensorflow as tf\n",
        "tf.random.set_seed(seed_value)"
      ],
      "execution_count": 18,
      "outputs": []
    },
    {
      "cell_type": "markdown",
      "metadata": {
        "id": "bHmuj3FbJdWe"
      },
      "source": [
        "建立順序模型"
      ]
    },
    {
      "cell_type": "code",
      "metadata": {
        "id": "BjqS85sfJh3Q"
      },
      "source": [
        "model = keras.Sequential(\n",
        "    [\n",
        "        layers.Dense(2, activation=\"relu\"),\n",
        "        layers.Dense(32, activation=\"relu\"),\n",
        "        layers.Dense(32, activation=\"relu\"),\n",
        "        layers.Dense(1, activation=\"sigmoid\"),\n",
        "    ]\n",
        ")"
      ],
      "execution_count": 19,
      "outputs": []
    },
    {
      "cell_type": "markdown",
      "metadata": {
        "id": "xi4cyW0qJmvL"
      },
      "source": [
        "先forward一遍 編譯(定義 optimizer & loss_function) 然後看一下模型總結"
      ]
    },
    {
      "cell_type": "code",
      "metadata": {
        "id": "6-kJ2phkF6xu",
        "colab": {
          "base_uri": "https://localhost:8080/"
        },
        "outputId": "204b4e32-ac6f-4a51-90d2-fd8daa90c985"
      },
      "source": [
        "X = df[['x1','x2']].values\n",
        "y = df['y'].values\n",
        "y = model(X)\n",
        "model.compile(optimizer = 'Adam',\n",
        "              loss = mean_squared_error)\n",
        "model.summary()"
      ],
      "execution_count": 20,
      "outputs": [
        {
          "output_type": "stream",
          "text": [
            "Model: \"sequential\"\n",
            "_________________________________________________________________\n",
            "Layer (type)                 Output Shape              Param #   \n",
            "=================================================================\n",
            "dense (Dense)                (100, 2)                  6         \n",
            "_________________________________________________________________\n",
            "dense_1 (Dense)              (100, 32)                 96        \n",
            "_________________________________________________________________\n",
            "dense_2 (Dense)              (100, 32)                 1056      \n",
            "_________________________________________________________________\n",
            "dense_3 (Dense)              (100, 1)                  33        \n",
            "=================================================================\n",
            "Total params: 1,191\n",
            "Trainable params: 1,191\n",
            "Non-trainable params: 0\n",
            "_________________________________________________________________\n"
          ],
          "name": "stdout"
        }
      ]
    },
    {
      "cell_type": "markdown",
      "metadata": {
        "id": "lpn0NC6qJ2ZH"
      },
      "source": [
        "訓練模型"
      ]
    },
    {
      "cell_type": "code",
      "metadata": {
        "id": "fTF5M9rHGGEj",
        "colab": {
          "base_uri": "https://localhost:8080/"
        },
        "outputId": "d82033aa-3d02-423c-8bb3-de5c544ff712"
      },
      "source": [
        "X = df[['x1','x2']].values\n",
        "y = df['y'].values\n",
        "model.fit(X,y,epochs=1000,verbose=0)"
      ],
      "execution_count": 21,
      "outputs": [
        {
          "output_type": "execute_result",
          "data": {
            "text/plain": [
              "<tensorflow.python.keras.callbacks.History at 0x7fd02996cda0>"
            ]
          },
          "metadata": {
            "tags": []
          },
          "execution_count": 21
        }
      ]
    },
    {
      "cell_type": "markdown",
      "metadata": {
        "id": "ydLmhq_wLPB4"
      },
      "source": [
        "模型預測 & 評估"
      ]
    },
    {
      "cell_type": "code",
      "metadata": {
        "id": "DIJCnanOGq54",
        "colab": {
          "base_uri": "https://localhost:8080/"
        },
        "outputId": "a2f9cae9-5d7a-4635-da50-eff6c6ae6057"
      },
      "source": [
        "y_pred = model.predict(X).ravel()\n",
        "y_pred = (y_pred>=0.5).astype(int)\n",
        "df['y_pred'] = list(y_pred)\n",
        "accuracy_score(df['y'].values,df['y_pred'].values)"
      ],
      "execution_count": 22,
      "outputs": [
        {
          "output_type": "execute_result",
          "data": {
            "text/plain": [
              "0.99"
            ]
          },
          "metadata": {
            "tags": []
          },
          "execution_count": 22
        }
      ]
    },
    {
      "cell_type": "markdown",
      "metadata": {
        "id": "I4sL7HUXLWXJ"
      },
      "source": [
        "可視化"
      ]
    },
    {
      "cell_type": "code",
      "metadata": {
        "id": "KrLqkQsGq79v",
        "colab": {
          "base_uri": "https://localhost:8080/",
          "height": 297
        },
        "outputId": "cc5b8842-df15-4905-97da-7b1769b744a8"
      },
      "source": [
        "plot_decision_surface(df[['x1','x2']].values,lambda x:(model.predict(x).ravel()>=0.5).astype(int))\n",
        "plot_data(df[df.y == 0],df[df.y == 1])\n",
        "plt.show()"
      ],
      "execution_count": 23,
      "outputs": [
        {
          "output_type": "stream",
          "text": [
            "/usr/local/lib/python3.6/dist-packages/ipykernel_launcher.py:41: UserWarning: The following kwargs were not used by contour: 'color', 'lw'\n"
          ],
          "name": "stderr"
        },
        {
          "output_type": "display_data",
          "data": {
            "image/png": "[encoded data removed]",
            "text/plain": [
              "<Figure size 432x288 with 1 Axes>"
            ]
          },
          "metadata": {
            "tags": [],
            "needs_background": "light"
          }
        }
      ]
    },
    {
      "cell_type": "code",
      "metadata": {
        "id": "g9fw5nf7rXVR"
      },
      "source": [
        ""
      ],
      "execution_count": 23,
      "outputs": []
    }
  ]
}